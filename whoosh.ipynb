{
  "nbformat": 4,
  "nbformat_minor": 0,
  "metadata": {
    "kernelspec": {
      "display_name": "Python 2",
      "language": "python",
      "name": "python2"
    },
    "language_info": {
      "codemirror_mode": {
        "name": "ipython",
        "version": 2
      },
      "file_extension": ".py",
      "mimetype": "text/x-python",
      "name": "python",
      "nbconvert_exporter": "python",
      "pygments_lexer": "ipython2",
      "version": "2.7.13"
    },
    "colab": {
      "name": "whoosh.ipynb",
      "provenance": [],
      "collapsed_sections": [],
      "include_colab_link": true
    }
  },
  "cells": [
    {
      "cell_type": "markdown",
      "metadata": {
        "id": "view-in-github",
        "colab_type": "text"
      },
      "source": [
        "<a href=\"https://colab.research.google.com/github/ninad-1234/Web_Minning/blob/main/whoosh.ipynb\" target=\"_parent\"><img src=\"https://colab.research.google.com/assets/colab-badge.svg\" alt=\"Open In Colab\"/></a>"
      ]
    },
    {
      "cell_type": "code",
      "metadata": {
        "colab": {
          "base_uri": "https://localhost:8080/"
        },
        "id": "rIIWEUT3__RL",
        "outputId": "7fc5bf32-2d53-4a83-adb0-381e60ceee5c"
      },
      "source": [
        "!pip install Whoosh\n",
        "# installing Whoosh"
      ],
      "execution_count": 4,
      "outputs": [
        {
          "output_type": "stream",
          "name": "stdout",
          "text": [
            "Collecting Whoosh\n",
            "\u001b[?25l  Downloading https://files.pythonhosted.org/packages/ba/19/24d0f1f454a2c1eb689ca28d2f178db81e5024f42d82729a4ff6771155cf/Whoosh-2.7.4-py2.py3-none-any.whl (468kB)\n",
            "\u001b[K     |████████████████████████████████| 471kB 5.0MB/s \n",
            "\u001b[?25hInstalling collected packages: Whoosh\n",
            "Successfully installed Whoosh-2.7.4\n"
          ]
        }
      ]
    },
    {
      "cell_type": "code",
      "metadata": {
        "id": "HhWNWsRA5z3R"
      },
      "source": [
        "from whoosh.qparser import *\n",
        "from whoosh.fields import Schema, TEXT, KEYWORD, ID, STORED,NUMERIC\n",
        "from whoosh.analysis import StemmingAnalyzer,StandardAnalyzer\n",
        "from whoosh import index\n",
        "import os, os.path\n",
        "# imported Required Packages "
      ],
      "execution_count": 9,
      "outputs": []
    },
    {
      "cell_type": "markdown",
      "metadata": {
        "id": "xCkMxBgm5z3R"
      },
      "source": [
        "Defined the schema of the document :- "
      ]
    },
    {
      "cell_type": "code",
      "metadata": {
        "id": "gRFR__2i5z3R"
      },
      "source": [
        "schema = Schema(year=NUMERIC(stored=True),\n",
        "                author=TEXT(analyzer=StandardAnalyzer(stoplist=None),stored=True),\n",
        "                title=TEXT(analyzer=StandardAnalyzer(stoplist=None),stored=True),\n",
        "                abstract=TEXT(analyzer=StandardAnalyzer(stoplist=None),stored=True),\n",
        "                body=TEXT(analyzer=StandardAnalyzer(stoplist=None)),\n",
        "                subject=KEYWORD(commas=True,scorable=True),\n",
        "                keywords=KEYWORD(commas=True, scorable=True))"
      ],
      "execution_count": 10,
      "outputs": []
    },
    {
      "cell_type": "markdown",
      "metadata": {
        "id": "B0G7-B7R5z3S"
      },
      "source": [
        "uploading the document in proper schema "
      ]
    },
    {
      "cell_type": "code",
      "metadata": {
        "collapsed": true,
        "id": "rKjr5jDH5z3T"
      },
      "source": [
        "\n",
        "if not os.path.exists(\"indexdir\"):\n",
        "    os.mkdir(\"indexdir\")\n",
        "ix = index.create_in(\"indexdir\", schema)\n",
        "\n",
        "ix = index.open_dir(\"indexdir\")\n",
        "\n",
        "writer = ix.writer()\n",
        "\n",
        "\n",
        "abstract1=u'''It depicts the struggles of young Scarlett O'Hara, the spoiled daughter of a well-to-do plantation owner, who must use every means at her disposal to claw her way out of poverty following Sherman's destructive 'March to the Sea'. This historical novel features a Bildungsroman or coming-of-age story, with the title taken from a poem written by Ernest Dowson'''\n",
        "\n",
        "abstract2=u'''Children's and Household Tales (German: Kinder- und Hausmärchen) is a collection of fairy tales first published in 20 December 1812 by the Grimm brothers, Jacob and Wilhelm. The collection is commonly known in English as Grimms' Fairy Tales.'''\n",
        "\n",
        "writer.add_document(year=u\"1936\",\n",
        "                author=u\"MargareJ\",\n",
        "                title=u\"Gone with the wind\",\n",
        "                abstract=abstract1,\n",
        "                subject=u\"novel, love\",\n",
        "                keywords=u\"Scarlett, Rhett\")\n",
        "writer.add_document(year=u\"1812\",\n",
        "                author=u\" Jacob and Wilhelm\",\n",
        "                title=u\"Grimms' Fairy Tales\",\n",
        "                abstract=abstract2,\n",
        "                subject=u\"story, children\",\n",
        "                keywords=u\"The Frog King,  Rapunzel\")\n",
        " \n",
        "writer.commit()"
      ],
      "execution_count": 11,
      "outputs": []
    },
    {
      "cell_type": "markdown",
      "metadata": {
        "id": "JHiNR0uotX7-"
      },
      "source": [
        "Examples of Parsing"
      ]
    },
    {
      "cell_type": "code",
      "metadata": {
        "colab": {
          "base_uri": "https://localhost:8080/"
        },
        "id": "1tPWh1Tb5z3U",
        "outputId": "6d9d928c-3c3c-495d-b710-396007642bfa"
      },
      "source": [
        "\n",
        "parser=QueryParser(\"abstract\",schema=schema) \n",
        "\n",
        "result=parser.parse(u\"Samsung company department\")\n",
        "print result"
      ],
      "execution_count": 12,
      "outputs": [
        {
          "output_type": "stream",
          "name": "stdout",
          "text": [
            "(abstract:samsung AND abstract:company AND abstract:department)\n"
          ]
        }
      ]
    },
    {
      "cell_type": "code",
      "metadata": {
        "colab": {
          "base_uri": "https://localhost:8080/"
        },
        "id": "tDys_vy05z3U",
        "outputId": "64797c84-cf86-4395-e839-9b8deef48df6"
      },
      "source": [
        "\n",
        "result=parser.parse(u\"apple company department\")\n",
        "print result"
      ],
      "execution_count": 13,
      "outputs": [
        {
          "output_type": "stream",
          "name": "stdout",
          "text": [
            "(abstract:apple AND abstract:company AND abstract:department)\n"
          ]
        }
      ]
    },
    {
      "cell_type": "markdown",
      "metadata": {
        "id": "-haOMN-Rtrbf"
      },
      "source": [
        "Advance Parsing Example:- "
      ]
    },
    {
      "cell_type": "code",
      "metadata": {
        "colab": {
          "base_uri": "https://localhost:8080/"
        },
        "id": "Hs1XBsxV5z3U",
        "outputId": "b177134b-5add-4bb0-8b48-4bf05a416c01"
      },
      "source": [
        "\n",
        "parser.add_plugin(GtLtPlugin()) \n",
        "result=parser.parse(u\"year:<2000\")\n",
        "print result"
      ],
      "execution_count": 14,
      "outputs": [
        {
          "output_type": "stream",
          "name": "stdout",
          "text": [
            "year:[ TO 2000}\n"
          ]
        }
      ]
    },
    {
      "cell_type": "markdown",
      "metadata": {
        "id": "x78vzxZVtycz"
      },
      "source": [
        "Applying search engine for mentioned documents :-"
      ]
    },
    {
      "cell_type": "code",
      "metadata": {
        "colab": {
          "base_uri": "https://localhost:8080/"
        },
        "id": "n3087E9V5z3U",
        "outputId": "4021f40e-7b9a-4a15-94db-c6d9749362a8"
      },
      "source": [
        "\n",
        "parser.add_plugin(FuzzyTermPlugin())\n",
        "result=parser.parse(u\"author:margare~\")\n",
        "print result\n",
        "\n",
        "with ix.searcher() as searcher:\n",
        "    results=searcher.search(result)\n",
        "    print (results[0])\n",
        "    #print(results)"
      ],
      "execution_count": 15,
      "outputs": [
        {
          "output_type": "stream",
          "name": "stdout",
          "text": [
            "author:margare~\n",
            "<Hit {'title': u'Gone with the wind', 'abstract': u\"It depicts the struggles of young Scarlett O'Hara, the spoiled daughter of a well-to-do plantation owner, who must use every means at her disposal to claw her way out of poverty following Sherman's destructive 'March to the Sea'. This historical novel features a Bildungsroman or coming-of-age story, with the title taken from a poem written by Ernest Dowson\", 'author': u'MargareJ', 'year': u'1936'}>\n"
          ]
        }
      ]
    },
    {
      "cell_type": "code",
      "metadata": {
        "colab": {
          "base_uri": "https://localhost:8080/"
        },
        "id": "9gbs9uvc5z3V",
        "outputId": "1639f658-e3fa-46ab-e249-9fd614dbacc8"
      },
      "source": [
        "\n",
        "result=parser.parse(u'title:\"gonE WITH\"~2')\n",
        "print result\n",
        "with ix.searcher() as searcher:\n",
        "    results=searcher.search(result)\n",
        "    print (results)"
      ],
      "execution_count": 16,
      "outputs": [
        {
          "output_type": "stream",
          "name": "stdout",
          "text": [
            "title:\"gone with\"\n",
            "<Top 1 Results for Phrase(u'title', [u'gone', u'with'], slop=2, boost=1.000000) runtime=0.00109791755676>\n"
          ]
        }
      ]
    },
    {
      "cell_type": "code",
      "metadata": {
        "colab": {
          "base_uri": "https://localhost:8080/"
        },
        "id": "Lp5laBxl5z3V",
        "outputId": "60d9cfab-2858-4f45-d192-56c932b0f1e1"
      },
      "source": [
        "\n",
        "result=parser.parse(u'title:go*')\n",
        "print result\n",
        "with ix.searcher() as searcher:\n",
        "    results=searcher.search(result)\n",
        "    print (results)\n",
        "    print (results[0])"
      ],
      "execution_count": 17,
      "outputs": [
        {
          "output_type": "stream",
          "name": "stdout",
          "text": [
            "title:go*\n",
            "<Top 1 Results for Prefix(u'title', u'go') runtime=0.000636100769043>\n",
            "<Hit {'title': u'Gone with the wind', 'abstract': u\"It depicts the struggles of young Scarlett O'Hara, the spoiled daughter of a well-to-do plantation owner, who must use every means at her disposal to claw her way out of poverty following Sherman's destructive 'March to the Sea'. This historical novel features a Bildungsroman or coming-of-age story, with the title taken from a poem written by Ernest Dowson\", 'author': u'MargareJ', 'year': u'1936'}>\n"
          ]
        }
      ]
    },
    {
      "cell_type": "code",
      "metadata": {
        "colab": {
          "base_uri": "https://localhost:8080/"
        },
        "id": "oI8N4BYz5z3V",
        "outputId": "e2a1574d-568f-40ff-90fc-c22fb2330c9e"
      },
      "source": [
        "\n",
        "parser.remove_plugin_class(PhrasePlugin)\n",
        "\n",
        "parser.add_plugin(SequencePlugin())\n",
        "\n",
        "result=parser.parse(u'\"abstract:(child OR childr*) abstract:ho*sehold\"~3 AND title:tale*')\n",
        "print (result)\n",
        "with ix.searcher() as searcher:\n",
        "    results=searcher.search(result)\n",
        "    print (results)\n",
        "    \n",
        "    import re\n",
        "    for result in results:\n",
        "        analyzer=StandardAnalyzer(stoplist=None)\n",
        "        a=[(t.pos) for t in analyzer(result['abstract'],positions=True) if re.match(r\"tale*\",t.text)]\n",
        "        print \"the position of the word pattern \"+\"<tale*> \"+\"in document <\"+result['title']+\"> is:\"\n",
        "        print a"
      ],
      "execution_count": 18,
      "outputs": [
        {
          "output_type": "stream",
          "name": "stdout",
          "text": [
            "(((abstract:child OR abstract:childr*) NEAR abstract:ho*sehold) AND title:tale*)\n",
            "<Top 1 Results for And([Sequence([Or([Term(u'abstract', u'child'), Prefix(u'abstract', u'childr')]), Wildcard(u'abstract', u'ho*sehold')], slop=3, boost=1.000000), Prefix(u'title', u'tale')]) runtime=0.00353193283081>\n",
            "the position of the word pattern <tale*> in document <Grimms' Fairy Tales> is:\n",
            "[4, 14, 38]\n"
          ]
        }
      ]
    }
  ]
}
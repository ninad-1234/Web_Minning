{
  "nbformat": 4,
  "nbformat_minor": 0,
  "metadata": {
    "colab": {
      "name": "DA1_Web_Minning.ipynb",
      "provenance": [],
      "collapsed_sections": [],
      "authorship_tag": "ABX9TyNdhFGfh4E5toF9S6kc++NA",
      "include_colab_link": true
    },
    "kernelspec": {
      "name": "python3",
      "display_name": "Python 3"
    },
    "language_info": {
      "name": "python"
    }
  },
  "cells": [
    {
      "cell_type": "markdown",
      "metadata": {
        "id": "view-in-github",
        "colab_type": "text"
      },
      "source": [
        "<a href=\"https://colab.research.google.com/github/ninad-1234/Web_Minning/blob/main/DA1_Web_Minning.ipynb\" target=\"_parent\"><img src=\"https://colab.research.google.com/assets/colab-badge.svg\" alt=\"Open In Colab\"/></a>"
      ]
    },
    {
      "cell_type": "markdown",
      "metadata": {
        "id": "2cffTpayvrIy"
      },
      "source": [
        "Package Installation"
      ]
    },
    {
      "cell_type": "code",
      "metadata": {
        "colab": {
          "base_uri": "https://localhost:8080/"
        },
        "id": "sbG817SNdPNK",
        "outputId": "a4490026-6da4-4680-84db-6b01ffb74109"
      },
      "source": [
        "!pip install Whoosh\n",
        "# Installed Whoosh Library"
      ],
      "execution_count": 2,
      "outputs": [
        {
          "output_type": "stream",
          "name": "stdout",
          "text": [
            "Collecting Whoosh\n",
            "  Downloading Whoosh-2.7.4-py2.py3-none-any.whl (468 kB)\n",
            "\u001b[?25l\r\u001b[K     |▊                               | 10 kB 25.5 MB/s eta 0:00:01\r\u001b[K     |█▍                              | 20 kB 27.3 MB/s eta 0:00:01\r\u001b[K     |██                              | 30 kB 18.8 MB/s eta 0:00:01\r\u001b[K     |██▉                             | 40 kB 15.7 MB/s eta 0:00:01\r\u001b[K     |███▌                            | 51 kB 5.7 MB/s eta 0:00:01\r\u001b[K     |████▏                           | 61 kB 6.0 MB/s eta 0:00:01\r\u001b[K     |█████                           | 71 kB 5.4 MB/s eta 0:00:01\r\u001b[K     |█████▋                          | 81 kB 6.1 MB/s eta 0:00:01\r\u001b[K     |██████▎                         | 92 kB 6.4 MB/s eta 0:00:01\r\u001b[K     |███████                         | 102 kB 5.4 MB/s eta 0:00:01\r\u001b[K     |███████▊                        | 112 kB 5.4 MB/s eta 0:00:01\r\u001b[K     |████████▍                       | 122 kB 5.4 MB/s eta 0:00:01\r\u001b[K     |█████████                       | 133 kB 5.4 MB/s eta 0:00:01\r\u001b[K     |█████████▉                      | 143 kB 5.4 MB/s eta 0:00:01\r\u001b[K     |██████████▌                     | 153 kB 5.4 MB/s eta 0:00:01\r\u001b[K     |███████████▏                    | 163 kB 5.4 MB/s eta 0:00:01\r\u001b[K     |███████████▉                    | 174 kB 5.4 MB/s eta 0:00:01\r\u001b[K     |████████████▋                   | 184 kB 5.4 MB/s eta 0:00:01\r\u001b[K     |█████████████▎                  | 194 kB 5.4 MB/s eta 0:00:01\r\u001b[K     |██████████████                  | 204 kB 5.4 MB/s eta 0:00:01\r\u001b[K     |██████████████▊                 | 215 kB 5.4 MB/s eta 0:00:01\r\u001b[K     |███████████████▍                | 225 kB 5.4 MB/s eta 0:00:01\r\u001b[K     |████████████████                | 235 kB 5.4 MB/s eta 0:00:01\r\u001b[K     |████████████████▊               | 245 kB 5.4 MB/s eta 0:00:01\r\u001b[K     |█████████████████▌              | 256 kB 5.4 MB/s eta 0:00:01\r\u001b[K     |██████████████████▏             | 266 kB 5.4 MB/s eta 0:00:01\r\u001b[K     |██████████████████▉             | 276 kB 5.4 MB/s eta 0:00:01\r\u001b[K     |███████████████████▋            | 286 kB 5.4 MB/s eta 0:00:01\r\u001b[K     |████████████████████▎           | 296 kB 5.4 MB/s eta 0:00:01\r\u001b[K     |█████████████████████           | 307 kB 5.4 MB/s eta 0:00:01\r\u001b[K     |█████████████████████▊          | 317 kB 5.4 MB/s eta 0:00:01\r\u001b[K     |██████████████████████▍         | 327 kB 5.4 MB/s eta 0:00:01\r\u001b[K     |███████████████████████         | 337 kB 5.4 MB/s eta 0:00:01\r\u001b[K     |███████████████████████▊        | 348 kB 5.4 MB/s eta 0:00:01\r\u001b[K     |████████████████████████▌       | 358 kB 5.4 MB/s eta 0:00:01\r\u001b[K     |█████████████████████████▏      | 368 kB 5.4 MB/s eta 0:00:01\r\u001b[K     |█████████████████████████▉      | 378 kB 5.4 MB/s eta 0:00:01\r\u001b[K     |██████████████████████████▋     | 389 kB 5.4 MB/s eta 0:00:01\r\u001b[K     |███████████████████████████▎    | 399 kB 5.4 MB/s eta 0:00:01\r\u001b[K     |████████████████████████████    | 409 kB 5.4 MB/s eta 0:00:01\r\u001b[K     |████████████████████████████▋   | 419 kB 5.4 MB/s eta 0:00:01\r\u001b[K     |█████████████████████████████▍  | 430 kB 5.4 MB/s eta 0:00:01\r\u001b[K     |██████████████████████████████  | 440 kB 5.4 MB/s eta 0:00:01\r\u001b[K     |██████████████████████████████▊ | 450 kB 5.4 MB/s eta 0:00:01\r\u001b[K     |███████████████████████████████▌| 460 kB 5.4 MB/s eta 0:00:01\r\u001b[K     |████████████████████████████████| 468 kB 5.4 MB/s \n",
            "\u001b[?25hInstalling collected packages: Whoosh\n",
            "Successfully installed Whoosh-2.7.4\n"
          ]
        }
      ]
    },
    {
      "cell_type": "markdown",
      "metadata": {
        "id": "JYT5Rogpvvd7"
      },
      "source": [
        "Importing Required Libraries and Packages "
      ]
    },
    {
      "cell_type": "code",
      "metadata": {
        "id": "Xp3E94lUdSrG"
      },
      "source": [
        "from typing import Dict, List, Sequence\n",
        "from whoosh.index import create_in\n",
        "from whoosh.fields import *\n",
        "from whoosh.qparser import MultifieldParser\n",
        "from whoosh.filedb.filestore import RamStorage\n",
        "from whoosh.analysis import StemmingAnalyzer\n",
        "import json\n",
        "from collections import OrderedDict"
      ],
      "execution_count": 40,
      "outputs": []
    },
    {
      "cell_type": "markdown",
      "metadata": {
        "id": "NRxS2sv7vzkO"
      },
      "source": [
        "Defining Search Engine "
      ]
    },
    {
      "cell_type": "code",
      "metadata": {
        "id": "VjEzF7I6dip8"
      },
      "source": [
        "class SearchEngine:\n",
        "\n",
        "    def __init__(self, schema):\n",
        "        self.schema = schema\n",
        "        schema.add('raw', TEXT(stored=True))\n",
        "        self.ix = RamStorage().create_index(self.schema)\n",
        "\n",
        "    def index_documents(self, docs: Sequence):\n",
        "        writer = self.ix.writer()\n",
        "        for doc in docs:\n",
        "            d = {k: v for k,v in doc.items() if k in self.schema.stored_names()}\n",
        "            d['raw'] = json.dumps(doc) # raw version of all of doc\n",
        "            writer.add_document(**d)\n",
        "        writer.commit(optimize=True)\n",
        "\n",
        "    def get_index_size(self) -> int:\n",
        "        return self.ix.doc_count_all()\n",
        "\n",
        "    def query(self, q: str, fields: Sequence, highlight: bool=True) -> List[Dict]:\n",
        "        search_results = []\n",
        "        with self.ix.searcher() as searcher:\n",
        "            results = searcher.search(MultifieldParser(fields, schema=self.schema).parse(q))\n",
        "            for r in results:\n",
        "                d = json.loads(r['raw'])\n",
        "                if highlight:\n",
        "                    for f in fields:\n",
        "                        if r[f] and isinstance(r[f], str):\n",
        "                            d[f] = r.highlights(f) or r[f]\n",
        "\n",
        "                search_results.append(d)\n",
        "\n",
        "        return search_results"
      ],
      "execution_count": 41,
      "outputs": []
    },
    {
      "cell_type": "markdown",
      "metadata": {
        "id": "r4dzMexiv9zB"
      },
      "source": [
        "Search Engine Working and Creating Inverted Index "
      ]
    },
    {
      "cell_type": "code",
      "metadata": {
        "colab": {
          "base_uri": "https://localhost:8080/"
        },
        "id": "Wrmkih67dkUe",
        "outputId": "7bedc4d6-d5c3-4670-be5d-806f4210e616"
      },
      "source": [
        "if __name__ == '__main__':\n",
        "\n",
        "    docs = [\n",
        "        {\n",
        "            \"id\": \"1\",\n",
        "            \"title\": \"First document banana\",\n",
        "            \"description\": \"This is the first document we've added in San Francisco!\",\n",
        "            \"tags\": ['foo', 'bar'],\n",
        "            \"extra\": \"kittens and cats\"\n",
        "        },\n",
        "        {\n",
        "            \"id\": \"2\",\n",
        "            \"title\": \"Second document hatstand\",\n",
        "            \"description\": \"The second one is even more interesting!\",\n",
        "            \"tags\": ['alice'],\n",
        "            \"extra\": \"kittens  foals and horses\"\n",
        "        },\n",
        "        {\n",
        "            \"id\": \"3\",\n",
        "            \"title\": \"Third document slug\",\n",
        "            \"description\": \"The third one is less interesting!\",\n",
        "            \"tags\": ['bob'],\n",
        "            \"extra\": \"bunny and rabbit\"\n",
        "        },\n",
        "    ]\n",
        "    schema = Schema(\n",
        "        id=ID(stored=True),\n",
        "        title=TEXT(stored=True),\n",
        "        description=TEXT(stored=True, analyzer=StemmingAnalyzer()),\n",
        "        tags=KEYWORD(stored=True)\n",
        "    )\n",
        "\n",
        "    engine = SearchEngine(schema)\n",
        "    engine.index_documents(docs)\n",
        "\n",
        "    print(f\"indexed {engine.get_index_size()} documents\")\n",
        "\n",
        "    fields_to_search = [\"title\", \"description\", \"tags\"]\n",
        "\n",
        "    for q in [\"hatstand\", \"banana\", \"first\", \"second\", \"alice\", \"bob\", \"san francisco\"]:\n",
        "        print(f\"Query:: {q}\")\n",
        "        print(\"\\t\", engine.query(q, fields_to_search, highlight=True))\n",
        "        #print(\"-\"*70)\n",
        "    inverted_index={}\n",
        "    #l=[]   \n",
        "    f_l=[] \n",
        "    for q in docs:\n",
        "      l=[]\n",
        "      #print(q['id'])\n",
        "      l.append(q['id'])\n",
        "      l.append(q['title'])\n",
        "      l.append(q['description'])\n",
        "      l.append(q['extra'])\n",
        "      f_l.append(' '.join(l))\n",
        "\n",
        "\n",
        "    #print(f_l)\n",
        "    \n",
        "    for i ,doc in enumerate(f_l):\n",
        "      #print(doc)\n",
        "      for term in doc.split():\n",
        "        #print(term)\n",
        "        if term in inverted_index:\n",
        "          inverted_index[term].add(i+1)\n",
        "        else:\n",
        "          inverted_index[term]={i+1}\n",
        "\n",
        "    new_d = OrderedDict(sorted(inverted_index.items(), key=lambda t:t[0]))\n",
        "    print('{} : {} : {} '.format(\"Word\",\"Frequency\",\"Available in Document ID\"))\n",
        "    print()\n",
        "    for k,v in new_d.items():\n",
        "       print('{} : {} : {} '.format(k,len(v),v))        "
      ],
      "execution_count": 51,
      "outputs": [
        {
          "output_type": "stream",
          "name": "stdout",
          "text": [
            "indexed 3 documents\n",
            "Query:: hatstand\n",
            "\t [{'id': '2', 'title': 'Second document <b class=\"match term0\">hatstand</b>', 'description': 'The second one is even more interesting!', 'tags': ['alice'], 'extra': 'kittens  foals and horses'}]\n",
            "Query:: banana\n",
            "\t [{'id': '1', 'title': 'First document <b class=\"match term0\">banana</b>', 'description': \"This is the first document we've added in San Francisco!\", 'tags': ['foo', 'bar'], 'extra': 'kittens and cats'}]\n",
            "Query:: first\n",
            "\t [{'id': '1', 'title': '<b class=\"match term0\">First</b> document banana', 'description': 'This is the <b class=\"match term1\">first</b> document we\\'ve added', 'tags': ['foo', 'bar'], 'extra': 'kittens and cats'}]\n",
            "Query:: second\n",
            "\t [{'id': '2', 'title': '<b class=\"match term0\">Second</b> document hatstand', 'description': 'The <b class=\"match term1\">second</b> one is even more interesting', 'tags': ['alice'], 'extra': 'kittens  foals and horses'}]\n",
            "Query:: alice\n",
            "\t [{'id': '2', 'title': 'Second document hatstand', 'description': 'The second one is even more interesting!', 'tags': ['alice'], 'extra': 'kittens  foals and horses'}]\n",
            "Query:: bob\n",
            "\t [{'id': '3', 'title': 'Third document slug', 'description': 'The third one is less interesting!', 'tags': ['bob'], 'extra': 'bunny and rabbit'}]\n",
            "Query:: san francisco\n",
            "\t [{'id': '1', 'title': 'First document banana', 'description': 'we\\'ve added in <b class=\"match term0\">San</b> <b class=\"match term1\">Francisco</b>', 'tags': ['foo', 'bar'], 'extra': 'kittens and cats'}]\n",
            "Word : Frequency : Available in Document ID \n",
            "\n",
            "1 : 1 : {1} \n",
            "2 : 1 : {2} \n",
            "3 : 1 : {3} \n",
            "First : 1 : {1} \n",
            "Francisco! : 1 : {1} \n",
            "San : 1 : {1} \n",
            "Second : 1 : {2} \n",
            "The : 2 : {2, 3} \n",
            "Third : 1 : {3} \n",
            "This : 1 : {1} \n",
            "added : 1 : {1} \n",
            "and : 3 : {1, 2, 3} \n",
            "banana : 1 : {1} \n",
            "bunny : 1 : {3} \n",
            "cats : 1 : {1} \n",
            "document : 3 : {1, 2, 3} \n",
            "even : 1 : {2} \n",
            "first : 1 : {1} \n",
            "foals : 1 : {2} \n",
            "hatstand : 1 : {2} \n",
            "horses : 1 : {2} \n",
            "in : 1 : {1} \n",
            "interesting! : 2 : {2, 3} \n",
            "is : 3 : {1, 2, 3} \n",
            "kittens : 2 : {1, 2} \n",
            "less : 1 : {3} \n",
            "more : 1 : {2} \n",
            "one : 2 : {2, 3} \n",
            "rabbit : 1 : {3} \n",
            "second : 1 : {2} \n",
            "slug : 1 : {3} \n",
            "the : 1 : {1} \n",
            "third : 1 : {3} \n",
            "we've : 1 : {1} \n"
          ]
        }
      ]
    }
  ]
}